{
 "cells": [
  {
   "cell_type": "markdown",
   "metadata": {},
   "source": [
    "<h3>1. Sa se calculeze $sin(x), cos(x)$ pentru valori foarte mari ale lui $x$, folosind reducerea lui Ng\n",
    "</h3>"
   ]
  },
  {
   "cell_type": "code",
   "execution_count": 38,
   "metadata": {},
   "outputs": [],
   "source": [
    "def ng_reduction(x):\n",
    "    \"\"\"\n",
    "    Function for implementing ng reduction of argument\n",
    "    :return: n, r from Ng reduction\n",
    "    \"\"\"\n",
    "    R = RealField(1144)\n",
    "    two_over_pi = R(2/pi)\n",
    "    y = x * two_over_pi\n",
    "    k = floor(y)\n",
    "    return k % 4, (y - k) * pi/2\n"
   ]
  },
  {
   "cell_type": "code",
   "execution_count": 45,
   "metadata": {},
   "outputs": [],
   "source": [
    "def sin_argred(x):\n",
    "    \"\"\"\n",
    "    Function to calculate sin(x) with ng argument reduction\n",
    "    \"\"\"\n",
    "    n, r = ng_reduction(x)\n",
    "    if n == 0:\n",
    "        return sin(r)\n",
    "    if n == 1:\n",
    "        return cos(r)\n",
    "    if n == 2:\n",
    "        return -sin(r)\n",
    "    return -cos(r)\n",
    "\n",
    "def cos_argred(x):\n",
    "    \"\"\"\n",
    "    Function to calculate cos(x) with ng argument reduction\n",
    "    \"\"\"\n",
    "    n, r = ng_reduction(x)\n",
    "    if n == 0:\n",
    "        return cos(r)\n",
    "    if n == 1:\n",
    "        return -sin(r)\n",
    "    if n == 2:\n",
    "        return -cos(r)\n",
    "    return sin(r)"
   ]
  },
  {
   "cell_type": "code",
   "execution_count": 54,
   "metadata": {},
   "outputs": [
    {
     "ename": "TypeError",
     "evalue": "'sage.rings.real_mpfr.RealNumber' object is not callable",
     "output_type": "error",
     "traceback": [
      "\u001b[0;31m---------------------------------------------------------------------------\u001b[0m",
      "\u001b[0;31mTypeError\u001b[0m                                 Traceback (most recent call last)",
      "\u001b[0;32m<ipython-input-54-a77d25bac79d>\u001b[0m in \u001b[0;36m<module>\u001b[0;34m()\u001b[0m\n\u001b[0;32m----> 1\u001b[0;31m \u001b[0mRealNumber\u001b[0m\u001b[0;34m(\u001b[0m\u001b[0;34m'2.2204'\u001b[0m\u001b[0;34m)\u001b[0m\u001b[0;34m\u001b[0m\u001b[0m\n\u001b[0m",
      "\u001b[0;31mTypeError\u001b[0m: 'sage.rings.real_mpfr.RealNumber' object is not callable"
     ]
    }
   ],
   "source": [
    "2.2204"
   ]
  }
 ],
 "metadata": {
  "kernelspec": {
   "display_name": "SageMath 8.1",
   "language": "",
   "name": "sagemath"
  },
  "language_info": {
   "codemirror_mode": {
    "name": "ipython",
    "version": 2
   },
   "file_extension": ".py",
   "mimetype": "text/x-python",
   "name": "python",
   "nbconvert_exporter": "python",
   "pygments_lexer": "ipython2",
   "version": "2.7.17"
  }
 },
 "nbformat": 4,
 "nbformat_minor": 2
}
