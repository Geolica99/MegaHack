{
 "cells": [
  {
   "cell_type": "markdown",
   "metadata": {},
   "source": [
    "<h3>1. Sa se calculeze $sin(x)$ pentru valori foarte mari ale lui $x$, folosind reducerea lui Ng\n",
    "</h3>"
   ]
  },
  {
   "cell_type": "code",
   "execution_count": 38,
   "metadata": {},
   "outputs": [],
   "source": [
    "def ng_reduction(x):\n",
    "    \"\"\"\n",
    "    Function for implementing ng reduction of argument\n",
    "    :return: n, r from Ng reduction\n",
    "    \"\"\"\n",
    "    R = RealField(1144)\n",
    "    two_over_pi = R(2/pi)\n",
    "    y = x * two_over_pi\n",
    "    k = floor(y)\n",
    "    return k % 4, (y - k) * pi/2\n"
   ]
  },
  {
   "cell_type": "code",
   "execution_count": 44,
   "metadata": {},
   "outputs": [
    {
     "data": {
      "text/plain": [
       "0.85220084976718880177270589375302936826176215041004365625650932602591031199209620153543628018037908962775444734135871466289192960541752160435834409154355961947063424560814255463769019138645203320097615756079663338069354022000745668942898862997707963338498137702813985682553803450531758922619115674748231842464566971379516419665627670330919026798"
      ]
     },
     "execution_count": 44,
     "metadata": {},
     "output_type": "execute_result"
    }
   ],
   "source": []
  }
 ],
 "metadata": {
  "kernelspec": {
   "display_name": "SageMath 8.1",
   "language": "",
   "name": "sagemath"
  },
  "language_info": {
   "codemirror_mode": {
    "name": "ipython",
    "version": 2
   },
   "file_extension": ".py",
   "mimetype": "text/x-python",
   "name": "python",
   "nbconvert_exporter": "python",
   "pygments_lexer": "ipython2",
   "version": "2.7.17"
  }
 },
 "nbformat": 4,
 "nbformat_minor": 2
}
