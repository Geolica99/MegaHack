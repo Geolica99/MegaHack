{
 "cells": [
  {
   "cell_type": "markdown",
   "metadata": {},
   "source": [
    "<h3>1. Sa se scrie formula lui MacLaurin pentru urmatoarea functie:\n",
    "$f\\colon $[-a, $\\infty$)$\\to \\mathbb{R}$ $$f(x) = \\sqrt{x + a} \\:,\\:\\: a > 0$$  \n",
    "</h3>"
   ]
  },
  {
   "cell_type": "code",
   "execution_count": 234,
   "metadata": {},
   "outputs": [
    {
     "data": {
      "text/html": [
       "<html><script type=\"math/tex; mode=display\">\\newcommand{\\Bold}[1]{\\mathbf{#1}}x \\ {\\mapsto}\\ \\sqrt{a} + \\frac{x}{2 \\, \\sqrt{a}} - \\frac{x^{2}}{8 \\, a^{\\frac{3}{2}}} + \\frac{x^{3}}{16 \\, a^{\\frac{5}{2}}} - \\frac{5 \\, x^{4}}{128 \\, a^{\\frac{7}{2}}} + \\frac{7 \\, x^{5}}{256 \\, a^{\\frac{9}{2}}} - \\frac{21 \\, x^{6}}{1024 \\, a^{\\frac{11}{2}}} + \\frac{33 \\, x^{7}}{2048 \\, a^{\\frac{13}{2}}} - \\frac{429 \\, x^{8}}{32768 \\, a^{\\frac{15}{2}}} + \\frac{715 \\, x^{9}}{65536 \\, a^{\\frac{17}{2}}} - \\frac{2431 \\, x^{10}}{262144 \\, a^{\\frac{19}{2}}}</script></html>"
      ],
      "text/plain": [
       "x |--> sqrt(a) + 1/2*x/sqrt(a) - 1/8*x^2/a^(3/2) + 1/16*x^3/a^(5/2) - 5/128*x^4/a^(7/2) + 7/256*x^5/a^(9/2) - 21/1024*x^6/a^(11/2) + 33/2048*x^7/a^(13/2) - 429/32768*x^8/a^(15/2) + 715/65536*x^9/a^(17/2) - 2431/262144*x^10/a^(19/2)"
      ]
     },
     "metadata": {},
     "output_type": "display_data"
    }
   ],
   "source": [
    "var('x a')\n",
    "assume(a > 0)\n",
    "f(x) = sqrt(x + a)\n",
    "show(f.taylor(x, 0, 10))"
   ]
  },
  {
   "cell_type": "markdown",
   "metadata": {},
   "source": [
    "<h3>2. Sa se determine numarul natural n, astfel ca pentru $a = 0$ \n",
    "si $f\\colon \\mathbb{R}\\to \\mathbb{R}$  $,\\:\\:f(x) = e^{x},\\:\\:$\n",
    "$T_nf$ sa aproximeze $f$ pe intervalul $[−1,1]$ cu 3 zecimale exacte</h3>"
   ]
  },
  {
   "cell_type": "code",
   "execution_count": 235,
   "metadata": {},
   "outputs": [
    {
     "name": "stdout",
     "output_type": "stream",
     "text": [
      "Order: 6\n"
     ]
    }
   ],
   "source": [
    "var('n')\n",
    "R_n(n) = 3/factorial(n + 1)\n",
    "for order in range(1, 200):\n",
    "    if R_n(order) < 10^(-3):\n",
    "        print(\"Order: \" + str(order))\n",
    "        break"
   ]
  },
  {
   "cell_type": "markdown",
   "metadata": {},
   "source": [
    "<h3>3. Sa se aproximeze $\\sqrt[\\leftroot{-2}\\uproot{2}3]{999}$ cu 12 zecimale exacte</h3>"
   ]
  },
  {
   "cell_type": "code",
   "execution_count": 236,
   "metadata": {},
   "outputs": [
    {
     "name": "stdout",
     "output_type": "stream",
     "text": [
      "Order: 4\n"
     ]
    }
   ],
   "source": [
    "var('n')\n",
    "R_n(n) = binomial(1/3, n)*10^(-3*n)\n",
    "for order in range(1, 2000):\n",
    "    if abs(R_n(order)) < 10^(-12):\n",
    "        print(\"Order: \" + str(order))\n",
    "        break"
   ]
  },
  {
   "cell_type": "markdown",
   "metadata": {},
   "source": [
    "<h3>4. Dezvoltati functia eroare:  $\\:erf(x) = \\frac{2}{\\sqrt{\\pi}} \\int_{0}^{x}e^{-t^{2}}\\, dt,\\:$ in serie utilizand seria pentru exponentiala si integrand. Calculati seria Taylor a lui $erf(x)$ in jurul lui zero direct. Sunt cele doua serii identitce? Evaluati $erf(1)$ adunand patru termeni ai seriei si comparati cu valoarea lui $erf(1) \\approx 0.8427$, care este data cu patru zecimale corecte. </h3>"
   ]
  },
  {
   "cell_type": "code",
   "execution_count": 237,
   "metadata": {},
   "outputs": [
    {
     "name": "stdout",
     "output_type": "stream",
     "text": [
      "First method: erf(1) = 0.865090694773226\n"
     ]
    }
   ],
   "source": [
    "#Method 1, Taylor Series for e^(-t^2), then integrate\n",
    "var('t')\n",
    "assume(t > 0)\n",
    "exp_t(t) = exp(-t^2) #exp_t(t) = e^(-t^2)\n",
    "exp_taylor(t) = exp_t.taylor(t, 0, 5) #taylor series for exp_t\n",
    "erf_taylor_met_1(x) = 2/(sqrt(pi)) * exp_taylor(t).integral(t, 0, x)\n",
    "print(\"First method: erf(1) = \" + str(RR(erf_taylor_met_1(1))))"
   ]
  },
  {
   "cell_type": "code",
   "execution_count": 238,
   "metadata": {},
   "outputs": [
    {
     "name": "stdout",
     "output_type": "stream",
     "text": [
      "Second method: erf(1) = 0.865090694773226\n",
      "Diff between real value 0.8427 and 0.865090694773226 is 0.0223906947732263\n"
     ]
    }
   ],
   "source": [
    "#Method 2, Directly calculate Taylor Series\n",
    "erf_taylor_met_2(x) = erf(x).taylor(x, 0, 5)\n",
    "print(\"Second method: erf(1) = \" + str(RR(erf_taylor_met_2(1))))\n",
    "print(\"Diff between real value 0.8427 and \" + str(RR(erf_taylor_met_2(1))) + \" is \" + str(RR(abs(0.8427 - erf_taylor_met_2(1)))))"
   ]
  },
  {
   "cell_type": "markdown",
   "metadata": {},
   "source": [
    "<h3>5. Deduceti seria Taylor pentru $ln(1 + x)$ si aproximati $ln2$ folosind primii 8 termeni. Cati termeni sunt necesari pentru a obtine $ln2$ cu 5 zecimale corecte? La fel pentru $ln\\frac{1+x}{1-x}$.</h3>"
   ]
  },
  {
   "cell_type": "code",
   "execution_count": 239,
   "metadata": {},
   "outputs": [
    {
     "name": "stdout",
     "output_type": "stream",
     "text": [
      "ln2 approximation with 8 Taylor series terms: -19.3142857142857\n"
     ]
    }
   ],
   "source": [
    "var('x')\n",
    "assume(x > 0)\n",
    "ln_taylor(x) = ln(1 + x).taylor(x, 0, 8)\n",
    "print(\"ln2 approximation with 8 Taylor series terms: \" + str(RR(ln_taylor(2))))"
   ]
  },
  {
   "cell_type": "code",
   "execution_count": 240,
   "metadata": {},
   "outputs": [
    {
     "name": "stdout",
     "output_type": "stream",
     "text": [
      "Order: 100000\n"
     ]
    }
   ],
   "source": [
    "#Order of taylor series to approximate ln 2 with 5 decimals \n",
    "var('n')\n",
    "assume(n > 0)\n",
    "R_n(n) = 1/(n + 1)\n",
    "order = 1\n",
    "while True:\n",
    "    if abs(R_n(order)) < 10^(-5):\n",
    "        print(\"Order: \" + str(order))\n",
    "        break\n",
    "    order += 1"
   ]
  },
  {
   "cell_type": "code",
   "execution_count": null,
   "metadata": {},
   "outputs": [
    {
     "name": "stdout",
     "output_type": "stream",
     "text": [
      "Order: 14\n"
     ]
    }
   ],
   "source": [
    "#ln2 approximation using taylor series of ln((1+x)/(1-x))\n",
    "var('x')\n",
    "R_n(n) = 1/(3^n)*(2*(n + 1))\n",
    "order = 1\n",
    "while True:\n",
    "    if abs(R_n(order)) < 10^(-5):\n",
    "        print(\"Order: \" + str(order))\n",
    "        break\n",
    "    order += 1"
   ]
  },
  {
   "cell_type": "markdown",
   "metadata": {},
   "source": [
    "<h3>6. Deduceti seria Taylor pentru $arctan$. Cati termeni sunt necesari pentru a obtine  $\\pi/4$ cu 5 zecimale exacte </h3>"
   ]
  },
  {
   "cell_type": "code",
   "execution_count": null,
   "metadata": {},
   "outputs": [],
   "source": [
    "var('x')\n",
    "R_n(n) = 1/(2*n + 1)\n",
    "order = 1\n",
    "while True:\n",
    "    if R_n(order) < 10^(-5):\n",
    "        print(\"Order: \" + str(order))\n",
    "        break\n",
    "    order += 1\n",
    "arctg_taylor(x) = arctan(x).taylor(x, 0, order)\n",
    "print(\"Pi approximation with 5 decimals: \" + str(RR(arctg_taylor(1))))\n",
    "print(\"Difference between pi/4 and approximation? \" +  str(RR(abs(arctg_taylor(1) - pi/4)) < 10^(-5)))"
   ]
  },
  {
   "cell_type": "markdown",
   "metadata": {},
   "source": [
    "<h3>7. (Aproximare cu serii Maclaurin) O functie $f \\in C^m[a, b]$ se poate aproxima, utilizand seria Maclaurin truchiata, printr-un polinom de grad n $$\\sum_{i=0}^{n} c_i x^i$$ unde $c_i = \\frac{f^{(i)}(0)}{i!}$</h3>"
   ]
  },
  {
   "cell_type": "code",
   "execution_count": null,
   "metadata": {},
   "outputs": [],
   "source": [
    "var('x')\n",
    "def maclaurinTrunc(f, order):\n",
    "    \"\"\"\n",
    "    Function which will calculate the maclaurin polynomial for a given function\n",
    "    \"\"\"\n",
    "    return sum([(derivative(f, x, i)(x=0)/factorial(i))*x^i for i in range(order + 1)])"
   ]
  },
  {
   "cell_type": "code",
   "execution_count": null,
   "metadata": {},
   "outputs": [],
   "source": [
    "#Compute T2f(x)...T5f(x) for e^x\n",
    "T2f(x) = maclaurinTrunc(exp(x), 2)\n",
    "T3f(x) = maclaurinTrunc(exp(x), 3)\n",
    "T4f(x) = maclaurinTrunc(exp(x), 4)\n",
    "T5f(x) = maclaurinTrunc(exp(x), 5)"
   ]
  },
  {
   "cell_type": "code",
   "execution_count": null,
   "metadata": {},
   "outputs": [],
   "source": [
    "p1 = plot(exp(x), (x, -4, 4), thickness=2, title='Comparison plot for e^x', legend_label='e^x')\n",
    "p2 = plot(T2f, (x, -4, 4), thickness=2, color='green', legend_label = 'T2f(x)')\n",
    "p3 = plot(T3f, (x, -4, 4), thickness=2, color='red', legend_label='T3f(x)')\n",
    "p4 = plot(T4f, (x, -4, 4), thickness=2, color='yellow', legend_label='T4f(x)')\n",
    "p5 = plot(T5f, (x, -4, 4), thickness=3, color='purple', legend_label='T5f(x)')\n",
    "p1 + p2 + p3 + p4 + p5"
   ]
  },
  {
   "cell_type": "code",
   "execution_count": null,
   "metadata": {},
   "outputs": [],
   "source": [
    "#Compute T2f(x)...T5f(x) for ln(1 + x)\n",
    "T2f(x) = maclaurinTrunc(ln(1 + x), 2)\n",
    "T3f(x) = maclaurinTrunc(ln(1 + x), 3)\n",
    "T4f(x) = maclaurinTrunc(ln(1 + x), 4)\n",
    "T5f(x) = maclaurinTrunc(ln(1 + x), 5)"
   ]
  },
  {
   "cell_type": "code",
   "execution_count": null,
   "metadata": {},
   "outputs": [],
   "source": [
    "p1 = plot(ln(1 + x), (x, -0.99, 5), thickness=2, title='Comparison plot for ln(1 + x)', legend_label='ln(1 + x)')\n",
    "p2 = plot(T2f, (x, -0.99, 5), thickness=2, color='green', legend_label = 'T2f(x)')\n",
    "p3 = plot(T3f, (x, -0.99, 5), thickness=2, color='red', legend_label='T3f(x)')\n",
    "p4 = plot(T4f, (x, -0.99, 5), thickness=2, color='yellow', legend_label='T4f(x)')\n",
    "p5 = plot(T5f, (x, -0.99, 5), thickness=3, color='purple', legend_label='T5f(x)')\n",
    "p1 + p2 + p3 + p4 + p5"
   ]
  },
  {
   "cell_type": "markdown",
   "metadata": {},
   "source": [
    "<h3>8. (Aproximare Pade rationala). Aproximarea Pade rationala este cea mai buna aproximare a unei functii printr-o functie rationala de ordin $(m, k)$ dat care reproduce valorile functiei si derivateleor ei pana la ordinul $m + k$. Adesea da aproximari mai bune decat seriile Taylor trunchiate si uneori lucreaza chiar si atunci cand seria Taylor nu converge! Forma aproximarii: $$f(x) \\approx \\frac{p_m(x)}{q_k(x)} = \\frac{\\sum_{i=0}^{m}a_ix^i}{\\sum_{j=0}^{k}b_jx^j}= R_{m,k}(x)$$</h3>"
   ]
  },
  {
   "cell_type": "code",
   "execution_count": null,
   "metadata": {},
   "outputs": [],
   "source": [
    "def pade(f, m, k):\n",
    "    \"\"\"\n",
    "    Function for pade rational approximation\n",
    "    :param: f - function to be approximated\n",
    "    :m: - order of the frist polynomial\n",
    "    :k: - order of the second polynomial\n",
    "    :return: - function representing pade's approximation\n",
    "    \"\"\"\n",
    "    c = [derivative(f, x, i)(x = 0)/factorial(i) for i in range(m +k + 1)]\n",
    "    \n",
    "    C = []\n",
    "    for i in range(m, m + k):\n",
    "        C.append([c[i - j] if i - j > 0 else 0 for j in range(k)])\n",
    "    C = matrix(C)\n",
    "    \n",
    "    R = vector([-c[i] for i in range(m + 1, m + k + 1)])\n",
    "    B = C.solve_right(R)\n",
    "    B_coeff = [1] + [elem for elem in B]\n",
    "    if m > k:\n",
    "        for i in range(k + 1, m + 1):\n",
    "            B_coeff.append(0)\n",
    "    B = vector(B_coeff)\n",
    "    A = [\n",
    "            sum([c[j - l] * B[l] for l in range(j + 1)])\n",
    "            for j in range(m + 1)\n",
    "    ]\n",
    "    \n",
    "    return sum([A[i]*x^i for i in range(m + 1)])/sum([B[i]*x^i for i in range(k + 1)])\n"
   ]
  },
  {
   "cell_type": "code",
   "execution_count": null,
   "metadata": {},
   "outputs": [],
   "source": [
    "#Computing Pade's approximations of e^x\n",
    "R11(x) = pade(exp(x), 1, 1)\n",
    "R22(x) = pade(exp(x), 2, 2)"
   ]
  },
  {
   "cell_type": "code",
   "execution_count": null,
   "metadata": {},
   "outputs": [],
   "source": [
    "p1 = plot(exp(x), (x, -1, 1), thickness=5, title='Comparison plot for e^x', legend_label='e^x')\n",
    "p2 = plot(R11(x), (x, -1, 1), thickness=2, color='green', legend_label = 'R11(x)')\n",
    "p3 = plot(R22(x), (x, -1, 1), thickness=2, color='yellow', legend_label = 'R22(x)')\n",
    "\n",
    "p1 + p2 + p3"
   ]
  },
  {
   "cell_type": "code",
   "execution_count": null,
   "metadata": {},
   "outputs": [],
   "source": [
    "#Computing Pade's approximations of ln(1 + x)\n",
    "R22(x) = pade(ln(1 + x), 2, 2)\n",
    "R31(x) = pade(ln(1 + x), 3, 1)"
   ]
  },
  {
   "cell_type": "code",
   "execution_count": null,
   "metadata": {},
   "outputs": [],
   "source": [
    "p1 = plot(ln(1 + x), (x, -1, 1), thickness=5, title='Comparison plot for ln(1 + x)', legend_label='ln(1 + x)')\n",
    "p2 = plot(R22(x), (x, -1, 1), thickness=2, color='green', legend_label = 'R22(x)')\n",
    "p3 = plot(R31(x), (x, -1, 1), thickness=1, color='yellow', legend_label = 'R31(x)')\n",
    "\n",
    "p1 + p2 + p3"
   ]
  },
  {
   "cell_type": "markdown",
   "metadata": {},
   "source": [
    "<h3>9. Calculati dezvolatrea Maclaurin a functiie Bessel $J_0(2x)$. Determinati $R_{2,2}(x), R_{4,3}(x)$ si $R_{2,4}(x)$ si comparati graficele. Functiile Bessel $J_n$ se definesc prin $$J_n(x) = \\frac{1}{\\pi}\\int_{0}^{\\pi}cos(xsin\\theta - n\\theta) d\\theta$$</h3>"
   ]
  },
  {
   "cell_type": "code",
   "execution_count": null,
   "metadata": {},
   "outputs": [],
   "source": [
    "#Compute Pade's approximations for the Bessel Function\n",
    "R22(x) = pade(bessel_J(0, 2*x), 2, 2)\n",
    "R43(x) = pade(bessel_J(0, 2*x), 4, 3)\n",
    "R24(x) = pade(bessel_J(0, 2*x), 2, 4)"
   ]
  },
  {
   "cell_type": "code",
   "execution_count": null,
   "metadata": {},
   "outputs": [],
   "source": [
    "p1 = plot(bessel_J(0, 2*x), (x, -1, 1), thickness=10, title='Comparison plot for J0(2*x)', legend_label='J0(2*x)')\n",
    "p2 = plot(R22(x), (x, -1, 1), thickness=2, color='green', legend_label = 'R22(x)')\n",
    "p3 = plot(R43(x), (x, -1, 1), thickness=5, color='yellow', legend_label = 'R43(x)')\n",
    "p4 = plot(R24(x), (x, -1, 1), thickness=3, color='purple', legend_label = 'R24(x)')\n",
    "\n",
    "p1 + p2 + p3 + p4 "
   ]
  }
 ],
 "metadata": {
  "kernelspec": {
   "display_name": "SageMath 8.1",
   "language": "",
   "name": "sagemath"
  },
  "language_info": {
   "codemirror_mode": {
    "name": "ipython",
    "version": 2
   },
   "file_extension": ".py",
   "mimetype": "text/x-python",
   "name": "python",
   "nbconvert_exporter": "python",
   "pygments_lexer": "ipython2",
   "version": "2.7.17"
  }
 },
 "nbformat": 4,
 "nbformat_minor": 2
}
