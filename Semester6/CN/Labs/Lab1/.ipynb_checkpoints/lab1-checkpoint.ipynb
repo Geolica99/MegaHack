{
 "cells": [
  {
   "cell_type": "markdown",
   "metadata": {},
   "source": [
    "<font size=\"4\">1. Sa se scrie formula lui MacLaurin pentru urmatoarea functie:\n",
    "$f\\colon $[-a, $\\infty$)$\\to \\mathbb{R}$ $$f(x) = \\sqrt{x + a} \\:,\\:\\: a > 0$$  \n",
    "</font>"
   ]
  },
  {
   "cell_type": "code",
   "execution_count": 60,
   "metadata": {},
   "outputs": [
    {
     "data": {
      "text/html": [
       "<html><script type=\"math/tex; mode=display\">\\newcommand{\\Bold}[1]{\\mathbf{#1}}x \\ {\\mapsto}\\ \\sqrt{a} + \\frac{x}{2 \\, \\sqrt{a}} - \\frac{x^{2}}{8 \\, a^{\\frac{3}{2}}} + \\frac{x^{3}}{16 \\, a^{\\frac{5}{2}}} - \\frac{5 \\, x^{4}}{128 \\, a^{\\frac{7}{2}}} + \\frac{7 \\, x^{5}}{256 \\, a^{\\frac{9}{2}}} - \\frac{21 \\, x^{6}}{1024 \\, a^{\\frac{11}{2}}} + \\frac{33 \\, x^{7}}{2048 \\, a^{\\frac{13}{2}}} - \\frac{429 \\, x^{8}}{32768 \\, a^{\\frac{15}{2}}} + \\frac{715 \\, x^{9}}{65536 \\, a^{\\frac{17}{2}}} - \\frac{2431 \\, x^{10}}{262144 \\, a^{\\frac{19}{2}}}</script></html>"
      ],
      "text/plain": [
       "x |--> sqrt(a) + 1/2*x/sqrt(a) - 1/8*x^2/a^(3/2) + 1/16*x^3/a^(5/2) - 5/128*x^4/a^(7/2) + 7/256*x^5/a^(9/2) - 21/1024*x^6/a^(11/2) + 33/2048*x^7/a^(13/2) - 429/32768*x^8/a^(15/2) + 715/65536*x^9/a^(17/2) - 2431/262144*x^10/a^(19/2)"
      ]
     },
     "metadata": {},
     "output_type": "display_data"
    }
   ],
   "source": [
    "var('x a')\n",
    "assume(a > 0)\n",
    "f(x) = sqrt(x + a)\n",
    "show(f.taylor(x, 0, 10))"
   ]
  },
  {
   "cell_type": "markdown",
   "metadata": {},
   "source": [
    "<font size=\"4\">2. Sa se determine numarul natural n, astfel ca pentru $a = 0$ \n",
    "si $f\\colon \\mathbb{R}\\to \\mathbb{R}$  $,\\:\\:f(x) = e^{x},\\:\\:$\n",
    "$T_nf$ sa aproximeze $f$ pe intervalul $[−1,1]$ cu 3 zecimale exacte</font>"
   ]
  },
  {
   "cell_type": "code",
   "execution_count": 29,
   "metadata": {},
   "outputs": [
    {
     "name": "stdout",
     "output_type": "stream",
     "text": [
      "Order: 6\n"
     ]
    }
   ],
   "source": [
    "var('n')\n",
    "R_n(n) = 3/factorial(n + 1)\n",
    "for order in range(1, 200):\n",
    "    if R_n(order) < 10^(-3):\n",
    "        print(\"Order: \" + str(order))\n",
    "        break"
   ]
  },
  {
   "cell_type": "markdown",
   "metadata": {},
   "source": [
    "<font size=\"4\">3. Sa se aproximeze $\\sqrt[\\leftroot{-2}\\uproot{2}3]{999}$ cu 12 zecimale exacte</font>"
   ]
  },
  {
   "cell_type": "code",
   "execution_count": 30,
   "metadata": {},
   "outputs": [
    {
     "name": "stdout",
     "output_type": "stream",
     "text": [
      "Order: 4\n"
     ]
    }
   ],
   "source": [
    "var('n')\n",
    "R_n(n) = binomial(1/3, n)*10^(-3*n)\n",
    "for order in range(1, 2000):\n",
    "    if abs(R_n(order)) < 10^(-12):\n",
    "        print(\"Order: \" + str(order))\n",
    "        break"
   ]
  },
  {
   "cell_type": "markdown",
   "metadata": {},
   "source": [
    "<font size=\"4\">4. Dezvoltati functia eroare:  $\\:erf(x) = \\frac{2}{\\sqrt{\\pi}} \\int_{0}^{x}e^{-t^{2}}\\, dt,\\:$ in serie utilizand seria pentru exponentiala si integrand. Calculati seria Taylor a lui $erf(x)$ in jurul lui zero direct. Sunt cele doua serii identitce? Evaluati $erf(1)$ adunand patru termeni ai seriei si comparati cu valoarea lui $erf(1) \\approx 0.8427$, care este data cu patru zecimale corecte. </font>"
   ]
  },
  {
   "cell_type": "code",
   "execution_count": 120,
   "metadata": {},
   "outputs": [
    {
     "data": {
      "text/html": [
       "<html><script type=\"math/tex; mode=display\">\\newcommand{\\Bold}[1]{\\mathbf{#1}}t \\ {\\mapsto}\\ \\frac{1}{2} \\, t^{4} - t^{2} + 1</script></html>"
      ],
      "text/plain": [
       "t |--> 1/2*t^4 - t^2 + 1"
      ]
     },
     "metadata": {},
     "output_type": "display_data"
    },
    {
     "name": "stdout",
     "output_type": "stream",
     "text": [
      "First method: erf(1) = 0.865090694773226\n"
     ]
    }
   ],
   "source": [
    "#Method 1, Taylor Series for e^(-t^2), then integrate\n",
    "var('t')\n",
    "assume(t > 0)\n",
    "exp_t(t) = exp(-t^2) #exp_t(t) = e^(-t^2)\n",
    "exp_taylor(t) = exp_t.taylor(t, 0, 5) #taylor series for exp_t\n",
    "erf_taylor_met_1(x) = 2/(sqrt(pi)) * exp_taylor(t).integral(t, 0, x)\n",
    "print(\"First method: erf(1) = \" + str(RR(erf_taylor_met_1(1))))"
   ]
  },
  {
   "cell_type": "code",
   "execution_count": 104,
   "metadata": {},
   "outputs": [
    {
     "name": "stdout",
     "output_type": "stream",
     "text": [
      "Second method: erf(1) = 0.865090694773226\n",
      "Diff between real value 0.8427 and 0.865090694773226 is 0.0223906947732263\n"
     ]
    }
   ],
   "source": [
    "#Method 2, Directly calculate Taylor Series\n",
    "erf_taylor_met_2(x) = erf(x).taylor(x, 0, 5)\n",
    "print(\"Second method: erf(1) = \" + str(RR(erf_taylor_met_2(1))))\n",
    "print(\"Diff between real value 0.8427 and \" + str(RR(erf_taylor_met_2(1))) + \" is \" + str(RR(abs(0.8427 - erf_taylor_met_2(1)))))"
   ]
  },
  {
   "cell_type": "markdown",
   "metadata": {},
   "source": [
    "<font size=\"4\">5. Deduceti seria Taylor pentru $ln(1 + x)$ si aproximati $ln2$ folosind primii 8 termeni. Cati termeni sunt necesari pentru a obtine $ln2$ cu 5 zecimale corecte? La fel pentru $ln\\frac{1+x}{1-x}$.</font>"
   ]
  },
  {
   "cell_type": "code",
   "execution_count": 128,
   "metadata": {},
   "outputs": [
    {
     "name": "stdout",
     "output_type": "stream",
     "text": [
      "ln2 approximation with 8 Taylor series terms: -1.32999774170690e3006\n"
     ]
    }
   ],
   "source": [
    "var('x')\n",
    "assume(x > 0)\n",
    "ln_taylor(x) = ln(1 + x).taylor(x, 0, 8)\n",
    "print(\"ln2 approximation with 8 Taylor series terms: \" + str(RR(ln_taylor(2))))"
   ]
  },
  {
   "cell_type": "code",
   "execution_count": null,
   "metadata": {},
   "outputs": [],
   "source": [
    "#Order of taylor series to approximate ln 2 with 5 decimals \n",
    "var('n')\n",
    "assume(n > 0)\n",
    "R_n(n) = 1/(n + 1)\n",
    "order = 1\n",
    "while True:\n",
    "    if abs(R_n(order)) < 10^(-5):\n",
    "        print(\"Order: \" + str(order))\n",
    "        break\n",
    "    order += 1"
   ]
  },
  {
   "cell_type": "code",
   "execution_count": null,
   "metadata": {},
   "outputs": [],
   "source": []
  }
 ],
 "metadata": {
  "kernelspec": {
   "display_name": "SageMath 8.1",
   "language": "",
   "name": "sagemath"
  },
  "language_info": {
   "codemirror_mode": {
    "name": "ipython",
    "version": 2
   },
   "file_extension": ".py",
   "mimetype": "text/x-python",
   "name": "python",
   "nbconvert_exporter": "python",
   "pygments_lexer": "ipython2",
   "version": "2.7.17"
  }
 },
 "nbformat": 4,
 "nbformat_minor": 2
}
